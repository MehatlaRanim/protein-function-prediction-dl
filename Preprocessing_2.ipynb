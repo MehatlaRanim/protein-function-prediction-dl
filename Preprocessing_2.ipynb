{
  "nbformat": 4,
  "nbformat_minor": 0,
  "metadata": {
    "colab": {
      "provenance": [],
      "machine_shape": "hm",
      "gpuType": "T4"
    },
    "kernelspec": {
      "name": "python3",
      "display_name": "Python 3"
    },
    "language_info": {
      "name": "python"
    },
    "accelerator": "GPU"
  },
  "cells": [
    {
      "cell_type": "markdown",
      "source": [
        "## Import Libraries and Mount Google Drive"
      ],
      "metadata": {
        "id": "OHo-9ekN4WEW"
      }
    },
    {
      "cell_type": "code",
      "source": [
        "import pandas as pd\n",
        "import numpy as np\n",
        "import progressbar\n",
        "import seaborn as sns\n",
        "import tensorflow as tf\n",
        "import matplotlib.pyplot as plt\n",
        "\n",
        "from tensorflow.keras.layers import LayerNormalization, MultiHeadAttention, Dropout, Dense, Input\n",
        "from sklearn.metrics import precision_recall_curve, auc, confusion_matrix, ConfusionMatrixDisplay\n",
        "from tensorflow.keras.models import Model\n",
        "from sklearn.model_selection import train_test_split\n",
        "from google.colab import drive\n",
        "drive.mount('/content/drive')\n"
      ],
      "metadata": {
        "colab": {
          "base_uri": "https://localhost:8080/"
        },
        "id": "EyzeWrSX0pF5",
        "outputId": "a14f3c28-ceed-4882-b189-a724fcee1912"
      },
      "execution_count": null,
      "outputs": [
        {
          "output_type": "stream",
          "name": "stdout",
          "text": [
            "Mounted at /content/drive\n"
          ]
        }
      ]
    },
    {
      "cell_type": "markdown",
      "source": [
        "## Load the Data"
      ],
      "metadata": {
        "id": "vkY7u2M44od4"
      }
    },
    {
      "cell_type": "code",
      "source": [
        "# Load the GO terms with their corresponding proteins and the IA weights\n",
        "train_terms_path = '/content/drive/My Drive/DATASET/Train/train_terms.tsv'\n",
        "train_terms = pd.read_csv(train_terms_path, delimiter='\\t')\n",
        "\n",
        "ia_path = '/content/drive/My Drive/DATASET/IA.txt'\n",
        "ia_data = pd.read_csv(ia_path, sep='\\t', names=['term', 'importance'])\n"
      ],
      "metadata": {
        "id": "bKtta-qK4lLH"
      },
      "execution_count": null,
      "outputs": []
    },
    {
      "cell_type": "markdown",
      "source": [
        "## Merge Data and Select Top Terms"
      ],
      "metadata": {
        "id": "RdD704c_4vlG"
      }
    },
    {
      "cell_type": "code",
      "execution_count": null,
      "metadata": {
        "id": "436IVbg_AIaO"
      },
      "outputs": [],
      "source": [
        "# Merge the GO terms data with the importance scores\n",
        "train_terms = train_terms.merge(ia_data, on='term')\n",
        "\n",
        "# Sort by importance and select the top 1500 unique terms\n",
        "top_terms = train_terms.sort_values(by='importance', ascending=False).drop_duplicates('term').head(1500)\n",
        "\n",
        "# Filter train_terms to include only the top 1500 terms\n",
        "filtered_terms = train_terms[train_terms['term'].isin(top_terms['term'])]"
      ]
    },
    {
      "cell_type": "markdown",
      "source": [
        "## Create Label DataFrame"
      ],
      "metadata": {
        "id": "mNlgArLo490J"
      }
    },
    {
      "cell_type": "code",
      "source": [
        "# Load protein IDs\n",
        "train_protids_path = '/content/drive/My Drive/DATASET/EMB/train_ids.npy'\n",
        "train_protein_ids = np.load(train_protids_path)\n",
        "\n",
        "def create_important_labels_df(protein_ids, terms, num_labels):\n",
        "    \"\"\" Create a DataFrame for important labels based on the top terms. \"\"\"\n",
        "    labels = np.zeros((len(protein_ids), num_labels))\n",
        "    series_protein_ids = pd.Series(protein_ids)\n",
        "\n",
        "    # Initialize progress bar for tracking\n",
        "    bar = progressbar.ProgressBar(maxval=num_labels, widgets=[progressbar.Bar('=', '[', ']'), ' ', progressbar.Percentage()])\n",
        "    bar.start()\n",
        "\n",
        "    # Assign labels to proteins based on the presence of terms\n",
        "    for i, term in enumerate(terms['term'].unique()):\n",
        "        term_entries = terms[terms['term'] == term]\n",
        "        related_proteins = term_entries['EntryID'].unique()\n",
        "        labels[:, i] = series_protein_ids.isin(related_proteins).astype(float)\n",
        "        bar.update(i + 1)\n",
        "\n",
        "    bar.finish()\n",
        "    return pd.DataFrame(data=labels, columns=terms['term'].unique())\n",
        "\n",
        "# Create and save the DataFrame for important labels\n",
        "important_labels_df = create_important_labels_df(train_protein_ids, filtered_terms, 1500)\n",
        "important_labels_df_path = '/content/drive/My Drive/DATASET/important_labels_df.pkl'\n",
        "important_labels_df.to_pickle(important_labels_df_path)\n",
        "print(\"important_labels_df created and saved.\")\n"
      ],
      "metadata": {
        "colab": {
          "base_uri": "https://localhost:8080/"
        },
        "id": "QSdFOxcC46ds",
        "outputId": "79dd3f1d-a3dd-403f-e0fd-7fd6c4a8f030"
      },
      "execution_count": null,
      "outputs": [
        {
          "output_type": "stream",
          "name": "stderr",
          "text": [
            "[========================================================================] 100%\n"
          ]
        },
        {
          "output_type": "stream",
          "name": "stdout",
          "text": [
            "important_labels_df created and saved.\n"
          ]
        }
      ]
    },
    {
      "cell_type": "markdown",
      "source": [
        "## Load and Split the Dataset"
      ],
      "metadata": {
        "id": "jHLKUY6x5PCw"
      }
    },
    {
      "cell_type": "code",
      "source": [
        "# Paths to the files\n",
        "path_train_embeds = '/content/drive/My Drive/DATASET/EMB/train_embeds.npy'\n",
        "# Loading the data\n",
        "train_embeds = np.load(path_train_embeds)\n",
        "# Print the shape of the loaded data to confirm\n",
        "print(\"Loaded data shape:\", train_embeds.shape)\n",
        "\n",
        "# converting embeddings numpy array(train_embeds) into pandas dataframe\n",
        "column_num = train_embeds.shape[1]\n",
        "train_df = pd.DataFrame(train_embeds, columns = [\"Column_\" + str(i) for i in range(1, column_num+1)])\n",
        "print(train_df.shape)\n",
        "\n",
        "train_df.head()"
      ],
      "metadata": {
        "colab": {
          "base_uri": "https://localhost:8080/",
          "height": 291
        },
        "id": "goEUMfFp7Rvm",
        "outputId": "33767b16-7cdf-4b40-9bbc-8d8aa97de9fb"
      },
      "execution_count": null,
      "outputs": [
        {
          "output_type": "stream",
          "name": "stdout",
          "text": [
            "Loaded data shape: (142246, 1024)\n",
            "(142246, 1024)\n"
          ]
        },
        {
          "output_type": "execute_result",
          "data": {
            "text/plain": [
              "   Column_1  Column_2  Column_3  Column_4  Column_5  Column_6  Column_7  \\\n",
              "0  0.049488 -0.032935  0.032473 -0.033723 -0.059505  0.075936 -0.045860   \n",
              "1 -0.044616  0.064925 -0.080263 -0.075338 -0.004731  0.025408 -0.024685   \n",
              "2 -0.020128 -0.049779  0.007894 -0.000829 -0.047737  0.086453 -0.038107   \n",
              "3 -0.007515  0.060628  0.004045  0.027056 -0.021542  0.010380 -0.025064   \n",
              "4  0.013468  0.041516  0.018435 -0.035595  0.008770  0.018699 -0.015452   \n",
              "\n",
              "   Column_8  Column_9  Column_10  ...  Column_1015  Column_1016  Column_1017  \\\n",
              "0 -0.104476 -0.072112   0.038806  ...    -0.046516    -0.028773    -0.021878   \n",
              "1 -0.016568 -0.038980  -0.033870  ...    -0.040173     0.003925     0.006130   \n",
              "2 -0.036379  0.029611   0.045029  ...     0.029388     0.008456     0.000697   \n",
              "3 -0.055834  0.068238   0.027764  ...     0.020792     0.023307     0.009009   \n",
              "4 -0.038092 -0.038326  -0.012299  ...    -0.044742    -0.025432    -0.060886   \n",
              "\n",
              "   Column_1018  Column_1019  Column_1020  Column_1021  Column_1022  \\\n",
              "0    -0.097883     0.056475     0.080950    -0.020938    -0.043532   \n",
              "1     0.007362    -0.066848     0.106882    -0.030134     0.026724   \n",
              "2     0.013502    -0.005968    -0.011571     0.005704    -0.036103   \n",
              "3     0.018211     0.020820    -0.031738     0.013279    -0.018357   \n",
              "4    -0.026915     0.026342     0.017237     0.014731    -0.016861   \n",
              "\n",
              "   Column_1023  Column_1024  \n",
              "0     0.096463     0.073070  \n",
              "1     0.027879    -0.048430  \n",
              "2     0.007693     0.106234  \n",
              "3     0.008087     0.010917  \n",
              "4    -0.016272     0.037054  \n",
              "\n",
              "[5 rows x 1024 columns]"
            ],
            "text/html": [
              "\n",
              "  <div id=\"df-547d8b3a-0997-40f5-bdab-e7c5626fc079\" class=\"colab-df-container\">\n",
              "    <div>\n",
              "<style scoped>\n",
              "    .dataframe tbody tr th:only-of-type {\n",
              "        vertical-align: middle;\n",
              "    }\n",
              "\n",
              "    .dataframe tbody tr th {\n",
              "        vertical-align: top;\n",
              "    }\n",
              "\n",
              "    .dataframe thead th {\n",
              "        text-align: right;\n",
              "    }\n",
              "</style>\n",
              "<table border=\"1\" class=\"dataframe\">\n",
              "  <thead>\n",
              "    <tr style=\"text-align: right;\">\n",
              "      <th></th>\n",
              "      <th>Column_1</th>\n",
              "      <th>Column_2</th>\n",
              "      <th>Column_3</th>\n",
              "      <th>Column_4</th>\n",
              "      <th>Column_5</th>\n",
              "      <th>Column_6</th>\n",
              "      <th>Column_7</th>\n",
              "      <th>Column_8</th>\n",
              "      <th>Column_9</th>\n",
              "      <th>Column_10</th>\n",
              "      <th>...</th>\n",
              "      <th>Column_1015</th>\n",
              "      <th>Column_1016</th>\n",
              "      <th>Column_1017</th>\n",
              "      <th>Column_1018</th>\n",
              "      <th>Column_1019</th>\n",
              "      <th>Column_1020</th>\n",
              "      <th>Column_1021</th>\n",
              "      <th>Column_1022</th>\n",
              "      <th>Column_1023</th>\n",
              "      <th>Column_1024</th>\n",
              "    </tr>\n",
              "  </thead>\n",
              "  <tbody>\n",
              "    <tr>\n",
              "      <th>0</th>\n",
              "      <td>0.049488</td>\n",
              "      <td>-0.032935</td>\n",
              "      <td>0.032473</td>\n",
              "      <td>-0.033723</td>\n",
              "      <td>-0.059505</td>\n",
              "      <td>0.075936</td>\n",
              "      <td>-0.045860</td>\n",
              "      <td>-0.104476</td>\n",
              "      <td>-0.072112</td>\n",
              "      <td>0.038806</td>\n",
              "      <td>...</td>\n",
              "      <td>-0.046516</td>\n",
              "      <td>-0.028773</td>\n",
              "      <td>-0.021878</td>\n",
              "      <td>-0.097883</td>\n",
              "      <td>0.056475</td>\n",
              "      <td>0.080950</td>\n",
              "      <td>-0.020938</td>\n",
              "      <td>-0.043532</td>\n",
              "      <td>0.096463</td>\n",
              "      <td>0.073070</td>\n",
              "    </tr>\n",
              "    <tr>\n",
              "      <th>1</th>\n",
              "      <td>-0.044616</td>\n",
              "      <td>0.064925</td>\n",
              "      <td>-0.080263</td>\n",
              "      <td>-0.075338</td>\n",
              "      <td>-0.004731</td>\n",
              "      <td>0.025408</td>\n",
              "      <td>-0.024685</td>\n",
              "      <td>-0.016568</td>\n",
              "      <td>-0.038980</td>\n",
              "      <td>-0.033870</td>\n",
              "      <td>...</td>\n",
              "      <td>-0.040173</td>\n",
              "      <td>0.003925</td>\n",
              "      <td>0.006130</td>\n",
              "      <td>0.007362</td>\n",
              "      <td>-0.066848</td>\n",
              "      <td>0.106882</td>\n",
              "      <td>-0.030134</td>\n",
              "      <td>0.026724</td>\n",
              "      <td>0.027879</td>\n",
              "      <td>-0.048430</td>\n",
              "    </tr>\n",
              "    <tr>\n",
              "      <th>2</th>\n",
              "      <td>-0.020128</td>\n",
              "      <td>-0.049779</td>\n",
              "      <td>0.007894</td>\n",
              "      <td>-0.000829</td>\n",
              "      <td>-0.047737</td>\n",
              "      <td>0.086453</td>\n",
              "      <td>-0.038107</td>\n",
              "      <td>-0.036379</td>\n",
              "      <td>0.029611</td>\n",
              "      <td>0.045029</td>\n",
              "      <td>...</td>\n",
              "      <td>0.029388</td>\n",
              "      <td>0.008456</td>\n",
              "      <td>0.000697</td>\n",
              "      <td>0.013502</td>\n",
              "      <td>-0.005968</td>\n",
              "      <td>-0.011571</td>\n",
              "      <td>0.005704</td>\n",
              "      <td>-0.036103</td>\n",
              "      <td>0.007693</td>\n",
              "      <td>0.106234</td>\n",
              "    </tr>\n",
              "    <tr>\n",
              "      <th>3</th>\n",
              "      <td>-0.007515</td>\n",
              "      <td>0.060628</td>\n",
              "      <td>0.004045</td>\n",
              "      <td>0.027056</td>\n",
              "      <td>-0.021542</td>\n",
              "      <td>0.010380</td>\n",
              "      <td>-0.025064</td>\n",
              "      <td>-0.055834</td>\n",
              "      <td>0.068238</td>\n",
              "      <td>0.027764</td>\n",
              "      <td>...</td>\n",
              "      <td>0.020792</td>\n",
              "      <td>0.023307</td>\n",
              "      <td>0.009009</td>\n",
              "      <td>0.018211</td>\n",
              "      <td>0.020820</td>\n",
              "      <td>-0.031738</td>\n",
              "      <td>0.013279</td>\n",
              "      <td>-0.018357</td>\n",
              "      <td>0.008087</td>\n",
              "      <td>0.010917</td>\n",
              "    </tr>\n",
              "    <tr>\n",
              "      <th>4</th>\n",
              "      <td>0.013468</td>\n",
              "      <td>0.041516</td>\n",
              "      <td>0.018435</td>\n",
              "      <td>-0.035595</td>\n",
              "      <td>0.008770</td>\n",
              "      <td>0.018699</td>\n",
              "      <td>-0.015452</td>\n",
              "      <td>-0.038092</td>\n",
              "      <td>-0.038326</td>\n",
              "      <td>-0.012299</td>\n",
              "      <td>...</td>\n",
              "      <td>-0.044742</td>\n",
              "      <td>-0.025432</td>\n",
              "      <td>-0.060886</td>\n",
              "      <td>-0.026915</td>\n",
              "      <td>0.026342</td>\n",
              "      <td>0.017237</td>\n",
              "      <td>0.014731</td>\n",
              "      <td>-0.016861</td>\n",
              "      <td>-0.016272</td>\n",
              "      <td>0.037054</td>\n",
              "    </tr>\n",
              "  </tbody>\n",
              "</table>\n",
              "<p>5 rows × 1024 columns</p>\n",
              "</div>\n",
              "    <div class=\"colab-df-buttons\">\n",
              "\n",
              "  <div class=\"colab-df-container\">\n",
              "    <button class=\"colab-df-convert\" onclick=\"convertToInteractive('df-547d8b3a-0997-40f5-bdab-e7c5626fc079')\"\n",
              "            title=\"Convert this dataframe to an interactive table.\"\n",
              "            style=\"display:none;\">\n",
              "\n",
              "  <svg xmlns=\"http://www.w3.org/2000/svg\" height=\"24px\" viewBox=\"0 -960 960 960\">\n",
              "    <path d=\"M120-120v-720h720v720H120Zm60-500h600v-160H180v160Zm220 220h160v-160H400v160Zm0 220h160v-160H400v160ZM180-400h160v-160H180v160Zm440 0h160v-160H620v160ZM180-180h160v-160H180v160Zm440 0h160v-160H620v160Z\"/>\n",
              "  </svg>\n",
              "    </button>\n",
              "\n",
              "  <style>\n",
              "    .colab-df-container {\n",
              "      display:flex;\n",
              "      gap: 12px;\n",
              "    }\n",
              "\n",
              "    .colab-df-convert {\n",
              "      background-color: #E8F0FE;\n",
              "      border: none;\n",
              "      border-radius: 50%;\n",
              "      cursor: pointer;\n",
              "      display: none;\n",
              "      fill: #1967D2;\n",
              "      height: 32px;\n",
              "      padding: 0 0 0 0;\n",
              "      width: 32px;\n",
              "    }\n",
              "\n",
              "    .colab-df-convert:hover {\n",
              "      background-color: #E2EBFA;\n",
              "      box-shadow: 0px 1px 2px rgba(60, 64, 67, 0.3), 0px 1px 3px 1px rgba(60, 64, 67, 0.15);\n",
              "      fill: #174EA6;\n",
              "    }\n",
              "\n",
              "    .colab-df-buttons div {\n",
              "      margin-bottom: 4px;\n",
              "    }\n",
              "\n",
              "    [theme=dark] .colab-df-convert {\n",
              "      background-color: #3B4455;\n",
              "      fill: #D2E3FC;\n",
              "    }\n",
              "\n",
              "    [theme=dark] .colab-df-convert:hover {\n",
              "      background-color: #434B5C;\n",
              "      box-shadow: 0px 1px 3px 1px rgba(0, 0, 0, 0.15);\n",
              "      filter: drop-shadow(0px 1px 2px rgba(0, 0, 0, 0.3));\n",
              "      fill: #FFFFFF;\n",
              "    }\n",
              "  </style>\n",
              "\n",
              "    <script>\n",
              "      const buttonEl =\n",
              "        document.querySelector('#df-547d8b3a-0997-40f5-bdab-e7c5626fc079 button.colab-df-convert');\n",
              "      buttonEl.style.display =\n",
              "        google.colab.kernel.accessAllowed ? 'block' : 'none';\n",
              "\n",
              "      async function convertToInteractive(key) {\n",
              "        const element = document.querySelector('#df-547d8b3a-0997-40f5-bdab-e7c5626fc079');\n",
              "        const dataTable =\n",
              "          await google.colab.kernel.invokeFunction('convertToInteractive',\n",
              "                                                    [key], {});\n",
              "        if (!dataTable) return;\n",
              "\n",
              "        const docLinkHtml = 'Like what you see? Visit the ' +\n",
              "          '<a target=\"_blank\" href=https://colab.research.google.com/notebooks/data_table.ipynb>data table notebook</a>'\n",
              "          + ' to learn more about interactive tables.';\n",
              "        element.innerHTML = '';\n",
              "        dataTable['output_type'] = 'display_data';\n",
              "        await google.colab.output.renderOutput(dataTable, element);\n",
              "        const docLink = document.createElement('div');\n",
              "        docLink.innerHTML = docLinkHtml;\n",
              "        element.appendChild(docLink);\n",
              "      }\n",
              "    </script>\n",
              "  </div>\n",
              "\n",
              "\n",
              "<div id=\"df-34a05388-7507-4110-b8dc-c9dfc9802f14\">\n",
              "  <button class=\"colab-df-quickchart\" onclick=\"quickchart('df-34a05388-7507-4110-b8dc-c9dfc9802f14')\"\n",
              "            title=\"Suggest charts\"\n",
              "            style=\"display:none;\">\n",
              "\n",
              "<svg xmlns=\"http://www.w3.org/2000/svg\" height=\"24px\"viewBox=\"0 0 24 24\"\n",
              "     width=\"24px\">\n",
              "    <g>\n",
              "        <path d=\"M19 3H5c-1.1 0-2 .9-2 2v14c0 1.1.9 2 2 2h14c1.1 0 2-.9 2-2V5c0-1.1-.9-2-2-2zM9 17H7v-7h2v7zm4 0h-2V7h2v10zm4 0h-2v-4h2v4z\"/>\n",
              "    </g>\n",
              "</svg>\n",
              "  </button>\n",
              "\n",
              "<style>\n",
              "  .colab-df-quickchart {\n",
              "      --bg-color: #E8F0FE;\n",
              "      --fill-color: #1967D2;\n",
              "      --hover-bg-color: #E2EBFA;\n",
              "      --hover-fill-color: #174EA6;\n",
              "      --disabled-fill-color: #AAA;\n",
              "      --disabled-bg-color: #DDD;\n",
              "  }\n",
              "\n",
              "  [theme=dark] .colab-df-quickchart {\n",
              "      --bg-color: #3B4455;\n",
              "      --fill-color: #D2E3FC;\n",
              "      --hover-bg-color: #434B5C;\n",
              "      --hover-fill-color: #FFFFFF;\n",
              "      --disabled-bg-color: #3B4455;\n",
              "      --disabled-fill-color: #666;\n",
              "  }\n",
              "\n",
              "  .colab-df-quickchart {\n",
              "    background-color: var(--bg-color);\n",
              "    border: none;\n",
              "    border-radius: 50%;\n",
              "    cursor: pointer;\n",
              "    display: none;\n",
              "    fill: var(--fill-color);\n",
              "    height: 32px;\n",
              "    padding: 0;\n",
              "    width: 32px;\n",
              "  }\n",
              "\n",
              "  .colab-df-quickchart:hover {\n",
              "    background-color: var(--hover-bg-color);\n",
              "    box-shadow: 0 1px 2px rgba(60, 64, 67, 0.3), 0 1px 3px 1px rgba(60, 64, 67, 0.15);\n",
              "    fill: var(--button-hover-fill-color);\n",
              "  }\n",
              "\n",
              "  .colab-df-quickchart-complete:disabled,\n",
              "  .colab-df-quickchart-complete:disabled:hover {\n",
              "    background-color: var(--disabled-bg-color);\n",
              "    fill: var(--disabled-fill-color);\n",
              "    box-shadow: none;\n",
              "  }\n",
              "\n",
              "  .colab-df-spinner {\n",
              "    border: 2px solid var(--fill-color);\n",
              "    border-color: transparent;\n",
              "    border-bottom-color: var(--fill-color);\n",
              "    animation:\n",
              "      spin 1s steps(1) infinite;\n",
              "  }\n",
              "\n",
              "  @keyframes spin {\n",
              "    0% {\n",
              "      border-color: transparent;\n",
              "      border-bottom-color: var(--fill-color);\n",
              "      border-left-color: var(--fill-color);\n",
              "    }\n",
              "    20% {\n",
              "      border-color: transparent;\n",
              "      border-left-color: var(--fill-color);\n",
              "      border-top-color: var(--fill-color);\n",
              "    }\n",
              "    30% {\n",
              "      border-color: transparent;\n",
              "      border-left-color: var(--fill-color);\n",
              "      border-top-color: var(--fill-color);\n",
              "      border-right-color: var(--fill-color);\n",
              "    }\n",
              "    40% {\n",
              "      border-color: transparent;\n",
              "      border-right-color: var(--fill-color);\n",
              "      border-top-color: var(--fill-color);\n",
              "    }\n",
              "    60% {\n",
              "      border-color: transparent;\n",
              "      border-right-color: var(--fill-color);\n",
              "    }\n",
              "    80% {\n",
              "      border-color: transparent;\n",
              "      border-right-color: var(--fill-color);\n",
              "      border-bottom-color: var(--fill-color);\n",
              "    }\n",
              "    90% {\n",
              "      border-color: transparent;\n",
              "      border-bottom-color: var(--fill-color);\n",
              "    }\n",
              "  }\n",
              "</style>\n",
              "\n",
              "  <script>\n",
              "    async function quickchart(key) {\n",
              "      const quickchartButtonEl =\n",
              "        document.querySelector('#' + key + ' button');\n",
              "      quickchartButtonEl.disabled = true;  // To prevent multiple clicks.\n",
              "      quickchartButtonEl.classList.add('colab-df-spinner');\n",
              "      try {\n",
              "        const charts = await google.colab.kernel.invokeFunction(\n",
              "            'suggestCharts', [key], {});\n",
              "      } catch (error) {\n",
              "        console.error('Error during call to suggestCharts:', error);\n",
              "      }\n",
              "      quickchartButtonEl.classList.remove('colab-df-spinner');\n",
              "      quickchartButtonEl.classList.add('colab-df-quickchart-complete');\n",
              "    }\n",
              "    (() => {\n",
              "      let quickchartButtonEl =\n",
              "        document.querySelector('#df-34a05388-7507-4110-b8dc-c9dfc9802f14 button');\n",
              "      quickchartButtonEl.style.display =\n",
              "        google.colab.kernel.accessAllowed ? 'block' : 'none';\n",
              "    })();\n",
              "  </script>\n",
              "</div>\n",
              "\n",
              "    </div>\n",
              "  </div>\n"
            ],
            "application/vnd.google.colaboratory.intrinsic+json": {
              "type": "dataframe",
              "variable_name": "train_df"
            }
          },
          "metadata": {},
          "execution_count": 3
        }
      ]
    },
    {
      "cell_type": "code",
      "source": [
        "\n",
        "# Define the path to the pickle file\n",
        "pickle_path = \"/content/drive/My Drive/DATASET/important_labels_df.pkl\"\n",
        "\n",
        "# load labels_df from the pickle file\n",
        "labels_df = pd.read_pickle(pickle_path)\n",
        "print(\"Loaded labels_df from pickle.\")\n",
        "\n",
        "\n",
        "# Ensure train_embeds has the shape (num_samples, sequence_length, embedding_dim)\n",
        "# Adding a new axis to have shape (142246, 1024, 1)\n",
        "train_embeds = np.expand_dims(train_embeds, axis=-1)\n",
        "\n",
        "# Proceed with splitting the datasets\n",
        "# First, split the data into a training set and a temporary testing set\n",
        "X_train, X_temp, y_train, y_temp = train_test_split(\n",
        "    train_df, labels_df, test_size=0.2, random_state=42\n",
        ")\n",
        "\n",
        "# Next, split the temporary set into validation and test sets\n",
        "X_val, X_test, y_val, y_test = train_test_split(\n",
        "    X_temp, y_temp, test_size=0.5, random_state=42\n",
        ")\n",
        "\n",
        "# Display the dimensions of the sets to verify proper splitting\n",
        "print(f\"Training set dimensions: {X_train.shape}, {y_train.shape}\")\n",
        "print(f\"Validation set dimensions: {X_val.shape}, {y_val.shape}\")\n",
        "print(f\"Test set dimensions: {X_test.shape}, {y_test.shape}\")\n"
      ],
      "metadata": {
        "colab": {
          "base_uri": "https://localhost:8080/"
        },
        "id": "N5qHqO-X5RIe",
        "outputId": "e9cc6303-cc51-46d5-a5d9-46af95e0a42f"
      },
      "execution_count": null,
      "outputs": [
        {
          "output_type": "stream",
          "name": "stdout",
          "text": [
            "Loaded labels_df from pickle.\n",
            "Training set dimensions: (113796, 1024), (113796, 1500)\n",
            "Validation set dimensions: (14225, 1024), (14225, 1500)\n",
            "Test set dimensions: (14225, 1024), (14225, 1500)\n"
          ]
        }
      ]
    },
    {
      "cell_type": "markdown",
      "source": [
        "## Evaluation of the Model with the new label dataframe"
      ],
      "metadata": {
        "id": "nn1vrXKq9jBE"
      }
    },
    {
      "cell_type": "code",
      "source": [
        "INPUT_SHAPE = [X_train.shape[1]]\n",
        "BATCH_SIZE = 500\n",
        "num_of_labels= 1500\n",
        "import tensorflow as tf\n",
        "import matplotlib.pyplot as plt\n",
        "from sklearn.metrics import confusion_matrix, ConfusionMatrixDisplay, accuracy_score, f1_score, precision_recall_curve, auc, average_precision_score\n",
        "from tensorflow.keras.utils import plot_model\n",
        "model = tf.keras.Sequential([\n",
        "    tf.keras.layers.BatchNormalization(input_shape=INPUT_SHAPE),\n",
        "    tf.keras.layers.Dense(units=1024, activation=None, kernel_regularizer=tf.keras.regularizers.l2(0.001)),\n",
        "    tf.keras.layers.BatchNormalization(),\n",
        "    tf.keras.layers.LeakyReLU(alpha=0.1),\n",
        "    tf.keras.layers.Dropout(0.1),\n",
        "\n",
        "    tf.keras.layers.Dense(units=1000, activation=None, kernel_regularizer=tf.keras.regularizers.l2(0.001)),\n",
        "    tf.keras.layers.BatchNormalization(),\n",
        "    tf.keras.layers.LeakyReLU(alpha=0.1),\n",
        "    tf.keras.layers.Dropout(0.1),\n",
        "\n",
        "    tf.keras.layers.Dense(units=512, activation=None, kernel_regularizer=tf.keras.regularizers.l2(0.001)),\n",
        "    tf.keras.layers.BatchNormalization(),\n",
        "    tf.keras.layers.LeakyReLU(alpha=0.1),\n",
        "\n",
        "    tf.keras.layers.Dense(units=num_of_labels, activation='sigmoid')\n",
        "])\n",
        "\n",
        "# Compile model\n",
        "model.compile(\n",
        "    optimizer=tf.keras.optimizers.Adam(learning_rate=0.001),\n",
        "    loss='binary_crossentropy',\n",
        "    metrics=['binary_accuracy', tf.keras.metrics.AUC()],\n",
        ")\n",
        "\n",
        "history = model.fit(\n",
        "    X_train, y_train,\n",
        "    batch_size=BATCH_SIZE,\n",
        "    epochs=20,\n",
        "    validation_data=(X_val, y_val)\n",
        ")\n",
        "\n"
      ],
      "metadata": {
        "id": "U9z3R3GCJK-8",
        "colab": {
          "base_uri": "https://localhost:8080/"
        },
        "outputId": "4c37f5a4-3d53-4787-df4f-80ae6349f25a"
      },
      "execution_count": null,
      "outputs": [
        {
          "output_type": "stream",
          "name": "stdout",
          "text": [
            "Epoch 1/20\n",
            "228/228 [==============================] - 10s 16ms/step - loss: 0.2448 - binary_accuracy: 0.9936 - auc: 0.5010 - val_loss: 0.0187 - val_binary_accuracy: 0.9999 - val_auc: 0.5415\n",
            "Epoch 2/20\n",
            "228/228 [==============================] - 3s 13ms/step - loss: 0.0139 - binary_accuracy: 0.9999 - auc: 0.5036 - val_loss: 0.0123 - val_binary_accuracy: 0.9999 - val_auc: 0.6218\n",
            "Epoch 3/20\n",
            "228/228 [==============================] - 3s 13ms/step - loss: 8.5328e-04 - binary_accuracy: 0.9999 - auc: 0.5000 - val_loss: 0.0038 - val_binary_accuracy: 0.9999 - val_auc: 0.6903\n",
            "Epoch 4/20\n",
            "228/228 [==============================] - 3s 13ms/step - loss: 7.1007e-04 - binary_accuracy: 0.9999 - auc: 0.5001 - val_loss: 0.0017 - val_binary_accuracy: 0.9999 - val_auc: 0.5922\n",
            "Epoch 5/20\n",
            "228/228 [==============================] - 3s 13ms/step - loss: 6.7665e-04 - binary_accuracy: 0.9999 - auc: 0.5003 - val_loss: 7.5782e-04 - val_binary_accuracy: 0.9999 - val_auc: 0.5017\n",
            "Epoch 6/20\n",
            "228/228 [==============================] - 3s 13ms/step - loss: 6.6807e-04 - binary_accuracy: 0.9999 - auc: 0.5003 - val_loss: 7.5372e-04 - val_binary_accuracy: 0.9999 - val_auc: 0.5091\n",
            "Epoch 7/20\n",
            "228/228 [==============================] - 3s 13ms/step - loss: 6.7004e-04 - binary_accuracy: 0.9999 - auc: 0.5007 - val_loss: 7.7432e-04 - val_binary_accuracy: 0.9999 - val_auc: 0.5074\n",
            "Epoch 8/20\n",
            "228/228 [==============================] - 3s 13ms/step - loss: 7.1282e-04 - binary_accuracy: 0.9999 - auc: 0.5010 - val_loss: 0.0010 - val_binary_accuracy: 0.9999 - val_auc: 0.5508\n",
            "Epoch 9/20\n",
            "228/228 [==============================] - 3s 13ms/step - loss: 0.0500 - binary_accuracy: 0.9998 - auc: 0.5040 - val_loss: 0.0120 - val_binary_accuracy: 0.9999 - val_auc: 0.7789\n",
            "Epoch 10/20\n",
            "228/228 [==============================] - 3s 13ms/step - loss: 0.0220 - binary_accuracy: 0.9999 - auc: 0.5050 - val_loss: 0.0017 - val_binary_accuracy: 0.9999 - val_auc: 0.5975\n",
            "Epoch 11/20\n",
            "228/228 [==============================] - 3s 13ms/step - loss: 0.0966 - binary_accuracy: 0.9993 - auc: 0.5055 - val_loss: 0.0248 - val_binary_accuracy: 0.9999 - val_auc: 0.5000\n",
            "Epoch 12/20\n",
            "228/228 [==============================] - 3s 13ms/step - loss: 0.0045 - binary_accuracy: 0.9999 - auc: 0.5057 - val_loss: 0.0037 - val_binary_accuracy: 0.9999 - val_auc: 0.7677\n",
            "Epoch 13/20\n",
            "228/228 [==============================] - 3s 13ms/step - loss: 7.4965e-04 - binary_accuracy: 0.9999 - auc: 0.5033 - val_loss: 0.0028 - val_binary_accuracy: 0.9999 - val_auc: 0.7433\n",
            "Epoch 14/20\n",
            "228/228 [==============================] - 3s 13ms/step - loss: 5.9097e-04 - binary_accuracy: 0.9999 - auc: 0.5038 - val_loss: 0.0019 - val_binary_accuracy: 0.9999 - val_auc: 0.6744\n",
            "Epoch 15/20\n",
            "228/228 [==============================] - 3s 13ms/step - loss: 6.1958e-04 - binary_accuracy: 0.9999 - auc: 0.5038 - val_loss: 6.5122e-04 - val_binary_accuracy: 0.9999 - val_auc: 0.5100\n",
            "Epoch 16/20\n",
            "228/228 [==============================] - 3s 13ms/step - loss: 6.1778e-04 - binary_accuracy: 0.9999 - auc: 0.5033 - val_loss: 8.3079e-04 - val_binary_accuracy: 0.9999 - val_auc: 0.5241\n",
            "Epoch 17/20\n",
            "228/228 [==============================] - 3s 13ms/step - loss: 7.2246e-04 - binary_accuracy: 0.9999 - auc: 0.5040 - val_loss: 6.6602e-04 - val_binary_accuracy: 0.9999 - val_auc: 0.5120\n",
            "Epoch 18/20\n",
            "228/228 [==============================] - 3s 13ms/step - loss: 7.3003e-04 - binary_accuracy: 0.9999 - auc: 0.5038 - val_loss: 7.0398e-04 - val_binary_accuracy: 0.9999 - val_auc: 0.5054\n",
            "Epoch 19/20\n",
            "228/228 [==============================] - 3s 13ms/step - loss: 0.0695 - binary_accuracy: 0.9970 - auc: 0.5090 - val_loss: 0.0063 - val_binary_accuracy: 0.9999 - val_auc: 0.7496\n",
            "Epoch 20/20\n",
            "228/228 [==============================] - 3s 13ms/step - loss: 0.0013 - binary_accuracy: 0.9999 - auc: 0.5041 - val_loss: 0.0030 - val_binary_accuracy: 0.9999 - val_auc: 0.7190\n"
          ]
        }
      ]
    },
    {
      "cell_type": "code",
      "source": [
        "def evaluate_dnn_model(dnn_model, X_test, y_test):\n",
        "    # Ensure the test sets are numpy arrays if they are DataFrames\n",
        "    if isinstance(X_test, pd.DataFrame):\n",
        "        X_test = X_test.values\n",
        "    if isinstance(y_test, pd.DataFrame):\n",
        "        y_test = y_test.values\n",
        "\n",
        "    # Predict probabilities for each class using the DNN model\n",
        "    y_pred_probs = dnn_model.predict(X_test)\n",
        "\n",
        "    # Calculate precision and recall for each label\n",
        "    precisions, recalls, thresholds = precision_recall_curve(y_test.ravel(), y_pred_probs.ravel())\n",
        "\n",
        "    # Calculate Fmax\n",
        "    f1_scores = 2 * (precisions * recalls) / (np.maximum(precisions + recalls, 1e-5))\n",
        "    fmax = np.max(f1_scores)\n",
        "\n",
        "    # Calculate AUPR\n",
        "    aupr = auc(recalls, precisions)\n",
        "\n",
        "    # Print results for DNN\n",
        "    print(f\"DNN - Fmax: {fmax}, AUPR: {aupr}\")\n",
        "\n",
        "# Example usage with the DNN model, X_test, and y_test assumed to be defined elsewhere\n",
        "evaluate_dnn_model(model, X_test, y_test)\n"
      ],
      "metadata": {
        "colab": {
          "base_uri": "https://localhost:8080/"
        },
        "id": "hFTM2p4Ln4jU",
        "outputId": "1921d22b-adba-4e3e-c3ca-f00a9cbd2fee"
      },
      "execution_count": null,
      "outputs": [
        {
          "output_type": "stream",
          "name": "stdout",
          "text": [
            "445/445 [==============================] - 1s 1ms/step\n",
            "DNN - Fmax: 0.0020036064916850328, AUPR: 0.0003951654258448088\n"
          ]
        }
      ]
    },
    {
      "cell_type": "code",
      "source": [
        "\n",
        "# Define the path to the pickle file\n",
        "pickle_path = \"/content/drive/My Drive/DATASET/updated00_labels_df.pkl\"\n",
        "\n",
        "# load labels_df from the pickle file\n",
        "labels_df = pd.read_pickle(pickle_path)\n",
        "print(\"Loaded labels_df from pickle.\")\n",
        "\n",
        "\n",
        "# Ensure train_embeds has the shape (num_samples, sequence_length, embedding_dim)\n",
        "# Adding a new axis to have shape (142246, 1024, 1)\n",
        "train_embeds = np.expand_dims(train_embeds, axis=-1)\n",
        "\n",
        "# Proceed with splitting the datasets\n",
        "# First, split the data into a training set and a temporary testing set\n",
        "X_train, X_temp, y_train, y_temp = train_test_split(\n",
        "    train_df, labels_df, test_size=0.2, random_state=42\n",
        ")\n",
        "\n",
        "# Next, split the temporary set into validation and test sets\n",
        "X_val, X_test, y_val, y_test = train_test_split(\n",
        "    X_temp, y_temp, test_size=0.5, random_state=42\n",
        ")\n",
        "\n",
        "# Display the dimensions of the sets to verify proper splitting\n",
        "print(f\"Training set dimensions: {X_train.shape}, {y_train.shape}\")\n",
        "print(f\"Validation set dimensions: {X_val.shape}, {y_val.shape}\")\n",
        "print(f\"Test set dimensions: {X_test.shape}, {y_test.shape}\")\n"
      ],
      "metadata": {
        "colab": {
          "base_uri": "https://localhost:8080/"
        },
        "id": "HuJIhk7AsJqR",
        "outputId": "93ff2317-abda-47c2-b25f-d442fc33e4a0"
      },
      "execution_count": null,
      "outputs": [
        {
          "output_type": "stream",
          "name": "stdout",
          "text": [
            "Loaded labels_df from pickle.\n",
            "Training set dimensions: (113796, 1024), (113796, 1500)\n",
            "Validation set dimensions: (14225, 1024), (14225, 1500)\n",
            "Test set dimensions: (14225, 1024), (14225, 1500)\n"
          ]
        }
      ]
    },
    {
      "cell_type": "code",
      "source": [
        "INPUT_SHAPE = [X_train.shape[1]]\n",
        "from tensorflow.keras.callbacks import ModelCheckpoint\n",
        "\n",
        "\n",
        "# Définition de l'architecture du modèle\n",
        "INPUT_SHAPE = [X_train.shape[1]]\n",
        "BATCH_SIZE = 500\n",
        "num_of_labels = 1500\n",
        "\n",
        "model = tf.keras.Sequential([\n",
        "    tf.keras.layers.BatchNormalization(input_shape=INPUT_SHAPE),\n",
        "    tf.keras.layers.Dense(units=1024, activation=None, kernel_regularizer=tf.keras.regularizers.l2(0.001)),\n",
        "    tf.keras.layers.BatchNormalization(),\n",
        "    tf.keras.layers.LeakyReLU(alpha=0.1),\n",
        "    tf.keras.layers.Dropout(0.1),\n",
        "\n",
        "    tf.keras.layers.Dense(units=1000, activation=None, kernel_regularizer=tf.keras.regularizers.l2(0.001)),\n",
        "    tf.keras.layers.BatchNormalization(),\n",
        "    tf.keras.layers.LeakyReLU(alpha=0.1),\n",
        "    tf.keras.layers.Dropout(0.1),\n",
        "\n",
        "    tf.keras.layers.Dense(units=512, activation=None, kernel_regularizer=tf.keras.regularizers.l2(0.001)),\n",
        "    tf.keras.layers.BatchNormalization(),\n",
        "    tf.keras.layers.LeakyReLU(alpha=0.1),\n",
        "\n",
        "    tf.keras.layers.Dense(units=num_of_labels, activation='sigmoid')\n",
        "])\n",
        "\n",
        "# Compilation du modèle\n",
        "model.compile(\n",
        "    optimizer=tf.keras.optimizers.Adam(learning_rate=0.001),\n",
        "    loss='binary_crossentropy',\n",
        "    metrics=['binary_accuracy', tf.keras.metrics.AUC()]\n",
        ")\n",
        "\n",
        "# Chemin pour la sauvegarde du modèle\n",
        "checkpoint_path = \"/content/drive/My Drive/DATASET/dnn_0.h5\"\n",
        "\n",
        "# Configuration des checkpoints\n",
        "checkpoint = ModelCheckpoint(\n",
        "    filepath=checkpoint_path,\n",
        "    save_weights_only=False,\n",
        "    monitor='val_auc',\n",
        "    mode='max',\n",
        "    save_best_only=True,\n",
        "    verbose=1\n",
        ")\n",
        "\n",
        "# Entraînement du modèle avec le callback de checkpoint\n",
        "history = model.fit(\n",
        "    X_train, y_train,\n",
        "    batch_size=BATCH_SIZE,\n",
        "    epochs=20,\n",
        "    validation_data=(X_val, y_val),\n",
        "    callbacks=[checkpoint]\n",
        ")"
      ],
      "metadata": {
        "colab": {
          "base_uri": "https://localhost:8080/"
        },
        "id": "yFdM_Gbbso_L",
        "outputId": "f44b0f63-66fb-4f8a-d30a-0fa69b600bcc"
      },
      "execution_count": null,
      "outputs": [
        {
          "output_type": "stream",
          "name": "stdout",
          "text": [
            "Epoch 1/20\n",
            "228/228 [==============================] - ETA: 0s - loss: 0.6308 - binary_accuracy: 0.8052 - auc: 0.8655\n",
            "Epoch 1: val_auc improved from -inf to 0.84581, saving model to /content/drive/My Drive/DATASET/dnn_0.h5\n"
          ]
        },
        {
          "output_type": "stream",
          "name": "stderr",
          "text": [
            "/usr/local/lib/python3.10/dist-packages/keras/src/engine/training.py:3103: UserWarning: You are saving your model as an HDF5 file via `model.save()`. This file format is considered legacy. We recommend using instead the native Keras format, e.g. `model.save('my_model.keras')`.\n",
            "  saving_api.save_model(\n"
          ]
        },
        {
          "output_type": "stream",
          "name": "stdout",
          "text": [
            "\b\b\b\b\b\b\b\b\b\b\b\b\b\b\b\b\b\b\b\b\b\b\b\b\b\b\b\b\b\b\b\b\b\b\b\b\b\b\b\b\b\b\b\b\b\b\b\b\b\b\b\b\b\b\b\b\b\b\b\b\b\b\b\b\b\b\b\b\b\b\b\b\b\b\b\b\b\b\b\b\b\b\b\b\b\b\b\b\b\b\b\b\b\b\b\b\b\b\b\b\b\b\b\b\b\r228/228 [==============================] - 107s 453ms/step - loss: 0.6308 - binary_accuracy: 0.8052 - auc: 0.8655 - val_loss: 0.4596 - val_binary_accuracy: 0.7914 - val_auc: 0.8458\n",
            "Epoch 2/20\n",
            "228/228 [==============================] - ETA: 0s - loss: 0.4169 - binary_accuracy: 0.8116 - auc: 0.8758\n",
            "Epoch 2: val_auc improved from 0.84581 to 0.86597, saving model to /content/drive/My Drive/DATASET/dnn_0.h5\n",
            "228/228 [==============================] - 98s 430ms/step - loss: 0.4169 - binary_accuracy: 0.8116 - auc: 0.8758 - val_loss: 0.4319 - val_binary_accuracy: 0.8034 - val_auc: 0.8660\n",
            "Epoch 3/20\n",
            "228/228 [==============================] - ETA: 0s - loss: 0.4159 - binary_accuracy: 0.8125 - auc: 0.8768\n",
            "Epoch 3: val_auc improved from 0.86597 to 0.87535, saving model to /content/drive/My Drive/DATASET/dnn_0.h5\n",
            "228/228 [==============================] - 102s 448ms/step - loss: 0.4159 - binary_accuracy: 0.8125 - auc: 0.8768 - val_loss: 0.4181 - val_binary_accuracy: 0.8113 - val_auc: 0.8753\n",
            "Epoch 4/20\n",
            "224/228 [============================>.] - ETA: 1s - loss: 0.4152 - binary_accuracy: 0.8129 - auc: 0.8773"
          ]
        }
      ]
    },
    {
      "cell_type": "code",
      "source": [
        "def evaluate_dnn_model(dnn_model, X_test, y_test):\n",
        "    # Ensure the test sets are numpy arrays if they are DataFrames\n",
        "    if isinstance(X_test, pd.DataFrame):\n",
        "        X_test = X_test.values\n",
        "    if isinstance(y_test, pd.DataFrame):\n",
        "        y_test = y_test.values\n",
        "\n",
        "    # Predict probabilities for each class using the DNN model\n",
        "    y_pred_probs = dnn_model.predict(X_test)\n",
        "\n",
        "    # Calculate precision and recall for each label\n",
        "    precisions, recalls, thresholds = precision_recall_curve(y_test.ravel(), y_pred_probs.ravel())\n",
        "\n",
        "    # Calculate Fmax\n",
        "    f1_scores = 2 * (precisions * recalls) / (np.maximum(precisions + recalls, 1e-5))\n",
        "    fmax = np.max(f1_scores)\n",
        "\n",
        "    # Calculate AUPR\n",
        "    aupr = auc(recalls, precisions)\n",
        "\n",
        "    # Print results for DNN\n",
        "    print(f\"DNN - Fmax: {fmax}, AUPR: {aupr}\")\n",
        "\n",
        "# Example usage with the DNN model, X_test, and y_test assumed to be defined elsewhere\n",
        "evaluate_dnn_model(model, X_test, y_test)\n"
      ],
      "metadata": {
        "colab": {
          "base_uri": "https://localhost:8080/"
        },
        "id": "UdZZK_5Rsu70",
        "outputId": "38b5b897-7c93-4fb7-91d3-de211b29010a"
      },
      "execution_count": null,
      "outputs": [
        {
          "output_type": "stream",
          "name": "stdout",
          "text": [
            "445/445 [==============================] - 1s 1ms/step\n",
            "DNN - Fmax: 0.7006380223127989, AUPR: 0.728805385162214\n"
          ]
        }
      ]
    },
    {
      "cell_type": "markdown",
      "source": [
        "# Comparaison Dataframe Before and After Propagation"
      ],
      "metadata": {
        "id": "F3o6Cs0T3z84"
      }
    },
    {
      "cell_type": "code",
      "source": [
        "import pandas as pd\n",
        "\n",
        "# Charger les deux DataFrames\n",
        "df_original = pd.read_pickle(\"/content/drive/My Drive/DATASET/labels_df.pkl\")\n",
        "df_updated = pd.read_pickle(\"/content/drive/My Drive/DATASET/updated00_labels_df.pkl\")\n",
        "\n",
        "# Vérifier si les DataFrames sont identiques\n",
        "are_identical = df_original.equals(df_updated)\n",
        "\n",
        "# Afficher le résultat de la comparaison\n",
        "print(\"Les deux DataFrames sont identiques:\", are_identical)\n",
        "\n",
        "# Pour voir les différences, vous pouvez utiliser:\n",
        "differences = df_original != df_updated\n",
        "print(\"Nombre de différences par colonne:\")\n",
        "print(differences.sum())\n"
      ],
      "metadata": {
        "id": "dXAoVoHytT4H",
        "colab": {
          "base_uri": "https://localhost:8080/"
        },
        "outputId": "f48819b3-1f1c-4666-bacb-fb5d5b161f80"
      },
      "execution_count": null,
      "outputs": [
        {
          "output_type": "stream",
          "name": "stdout",
          "text": [
            "Les deux DataFrames sont identiques: False\n",
            "Nombre de différences par colonne:\n",
            "GO:0005575        0\n",
            "GO:0008150        0\n",
            "GO:0110165     1626\n",
            "GO:0003674        0\n",
            "GO:0005622    22127\n",
            "              ...  \n",
            "GO:0051783    33457\n",
            "GO:0031674    92481\n",
            "GO:0001818    21356\n",
            "GO:0006874     2739\n",
            "GO:0016887      760\n",
            "Length: 1500, dtype: int64\n"
          ]
        }
      ]
    },
    {
      "cell_type": "code",
      "source": [
        "import matplotlib.pyplot as plt\n",
        "\n",
        "# Counting labels per column in both DataFrames\n",
        "label_count_original = df_original.sum(axis=0)\n",
        "label_count_updated = df_updated.sum(axis=0)\n",
        "\n",
        "# Setting up the figure and axes\n",
        "fig, ax = plt.subplots(1, 2, figsize=(14, 6), sharey=True)\n",
        "\n",
        "# Plotting the original label counts\n",
        "ax[0].bar(label_count_original.index, label_count_original.values, color='b')\n",
        "ax[0].set_title('Label Count Before Propagation')\n",
        "ax[0].set_xlabel('GO Terms')\n",
        "ax[0].set_ylabel('Count')\n",
        "ax[0].tick_params(axis='x', rotation=90)\n",
        "\n",
        "# Plotting the updated label counts\n",
        "ax[1].bar(label_count_updated.index, label_count_updated.values, color='r')\n",
        "ax[1].set_title('Label Count After Propagation')\n",
        "ax[1].set_xlabel('GO Terms')\n",
        "ax[1].tick_params(axis='x', rotation=90)\n",
        "\n",
        "# Adjust layout for better visibility\n",
        "plt.tight_layout()\n",
        "plt.show()\n"
      ],
      "metadata": {
        "id": "gRvW0CVgBk40",
        "colab": {
          "base_uri": "https://localhost:8080/",
          "height": 607
        },
        "outputId": "f3fd9165-e27c-43ef-e514-dfe41c8a5077"
      },
      "execution_count": null,
      "outputs": [
        {
          "output_type": "display_data",
          "data": {
            "text/plain": [
              "<Figure size 1400x600 with 2 Axes>"
            ],
            "image/png": "[encoded data removed]"
          },
          "metadata": {}
        }
      ]
    },
    {
      "cell_type": "code",
      "source": [],
      "metadata": {
        "id": "svxRm4h1CGHl"
      },
      "execution_count": null,
      "outputs": []
    }
  ]
}